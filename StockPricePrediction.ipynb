{
 "cells": [
  {
   "cell_type": "code",
   "execution_count": 15,
   "metadata": {},
   "outputs": [],
   "source": [
    "import pandas_datareader as pdr\n",
    "import pandas as pd\n",
    "import matplotlib.pyplot as plt\n",
    "import numpy as np"
   ]
  },
  {
   "cell_type": "code",
   "execution_count": 2,
   "metadata": {},
   "outputs": [],
   "source": [
    "df = pdr.get_data_tiingo('AAPL',api_key = \"e84e4abbd0616639235a30f7ab0ebb1ac7c6b1f7\")"
   ]
  },
  {
   "cell_type": "code",
   "execution_count": 3,
   "metadata": {},
   "outputs": [],
   "source": [
    "df.to_csv('AAPL.csv')"
   ]
  },
  {
   "cell_type": "code",
   "execution_count": 4,
   "metadata": {},
   "outputs": [],
   "source": [
    "dataset = pd.read_csv('AAPL.csv')"
   ]
  },
  {
   "cell_type": "markdown",
   "metadata": {},
   "source": [
    "### Data Exploration and preprocessing"
   ]
  },
  {
   "cell_type": "code",
   "execution_count": 6,
   "metadata": {},
   "outputs": [
    {
     "data": {
      "text/html": [
       "<div>\n",
       "<style scoped>\n",
       "    .dataframe tbody tr th:only-of-type {\n",
       "        vertical-align: middle;\n",
       "    }\n",
       "\n",
       "    .dataframe tbody tr th {\n",
       "        vertical-align: top;\n",
       "    }\n",
       "\n",
       "    .dataframe thead th {\n",
       "        text-align: right;\n",
       "    }\n",
       "</style>\n",
       "<table border=\"1\" class=\"dataframe\">\n",
       "  <thead>\n",
       "    <tr style=\"text-align: right;\">\n",
       "      <th></th>\n",
       "      <th>symbol</th>\n",
       "      <th>date</th>\n",
       "      <th>close</th>\n",
       "      <th>high</th>\n",
       "      <th>low</th>\n",
       "      <th>open</th>\n",
       "      <th>volume</th>\n",
       "      <th>adjClose</th>\n",
       "      <th>adjHigh</th>\n",
       "      <th>adjLow</th>\n",
       "      <th>adjOpen</th>\n",
       "      <th>adjVolume</th>\n",
       "      <th>divCash</th>\n",
       "      <th>splitFactor</th>\n",
       "    </tr>\n",
       "  </thead>\n",
       "  <tbody>\n",
       "    <tr>\n",
       "      <th>1254</th>\n",
       "      <td>AAPL</td>\n",
       "      <td>2020-09-04 00:00:00+00:00</td>\n",
       "      <td>120.96</td>\n",
       "      <td>123.70</td>\n",
       "      <td>110.89</td>\n",
       "      <td>120.07</td>\n",
       "      <td>332607163</td>\n",
       "      <td>120.96</td>\n",
       "      <td>123.70</td>\n",
       "      <td>110.89</td>\n",
       "      <td>120.07</td>\n",
       "      <td>332607163</td>\n",
       "      <td>0.0</td>\n",
       "      <td>1.0</td>\n",
       "    </tr>\n",
       "    <tr>\n",
       "      <th>1255</th>\n",
       "      <td>AAPL</td>\n",
       "      <td>2020-09-08 00:00:00+00:00</td>\n",
       "      <td>112.82</td>\n",
       "      <td>118.99</td>\n",
       "      <td>112.68</td>\n",
       "      <td>113.95</td>\n",
       "      <td>231366563</td>\n",
       "      <td>112.82</td>\n",
       "      <td>118.99</td>\n",
       "      <td>112.68</td>\n",
       "      <td>113.95</td>\n",
       "      <td>231366563</td>\n",
       "      <td>0.0</td>\n",
       "      <td>1.0</td>\n",
       "    </tr>\n",
       "    <tr>\n",
       "      <th>1256</th>\n",
       "      <td>AAPL</td>\n",
       "      <td>2020-09-09 00:00:00+00:00</td>\n",
       "      <td>117.32</td>\n",
       "      <td>119.14</td>\n",
       "      <td>115.26</td>\n",
       "      <td>117.26</td>\n",
       "      <td>176940455</td>\n",
       "      <td>117.32</td>\n",
       "      <td>119.14</td>\n",
       "      <td>115.26</td>\n",
       "      <td>117.26</td>\n",
       "      <td>176940455</td>\n",
       "      <td>0.0</td>\n",
       "      <td>1.0</td>\n",
       "    </tr>\n",
       "    <tr>\n",
       "      <th>1257</th>\n",
       "      <td>AAPL</td>\n",
       "      <td>2020-09-10 00:00:00+00:00</td>\n",
       "      <td>113.49</td>\n",
       "      <td>120.50</td>\n",
       "      <td>112.50</td>\n",
       "      <td>120.36</td>\n",
       "      <td>182274391</td>\n",
       "      <td>113.49</td>\n",
       "      <td>120.50</td>\n",
       "      <td>112.50</td>\n",
       "      <td>120.36</td>\n",
       "      <td>182274391</td>\n",
       "      <td>0.0</td>\n",
       "      <td>1.0</td>\n",
       "    </tr>\n",
       "    <tr>\n",
       "      <th>1258</th>\n",
       "      <td>AAPL</td>\n",
       "      <td>2020-09-11 00:00:00+00:00</td>\n",
       "      <td>112.00</td>\n",
       "      <td>115.23</td>\n",
       "      <td>110.00</td>\n",
       "      <td>114.57</td>\n",
       "      <td>180860325</td>\n",
       "      <td>112.00</td>\n",
       "      <td>115.23</td>\n",
       "      <td>110.00</td>\n",
       "      <td>114.57</td>\n",
       "      <td>180860325</td>\n",
       "      <td>0.0</td>\n",
       "      <td>1.0</td>\n",
       "    </tr>\n",
       "  </tbody>\n",
       "</table>\n",
       "</div>"
      ],
      "text/plain": [
       "     symbol                       date   close    high     low    open  \\\n",
       "1254   AAPL  2020-09-04 00:00:00+00:00  120.96  123.70  110.89  120.07   \n",
       "1255   AAPL  2020-09-08 00:00:00+00:00  112.82  118.99  112.68  113.95   \n",
       "1256   AAPL  2020-09-09 00:00:00+00:00  117.32  119.14  115.26  117.26   \n",
       "1257   AAPL  2020-09-10 00:00:00+00:00  113.49  120.50  112.50  120.36   \n",
       "1258   AAPL  2020-09-11 00:00:00+00:00  112.00  115.23  110.00  114.57   \n",
       "\n",
       "         volume  adjClose  adjHigh  adjLow  adjOpen  adjVolume  divCash  \\\n",
       "1254  332607163    120.96   123.70  110.89   120.07  332607163      0.0   \n",
       "1255  231366563    112.82   118.99  112.68   113.95  231366563      0.0   \n",
       "1256  176940455    117.32   119.14  115.26   117.26  176940455      0.0   \n",
       "1257  182274391    113.49   120.50  112.50   120.36  182274391      0.0   \n",
       "1258  180860325    112.00   115.23  110.00   114.57  180860325      0.0   \n",
       "\n",
       "      splitFactor  \n",
       "1254          1.0  \n",
       "1255          1.0  \n",
       "1256          1.0  \n",
       "1257          1.0  \n",
       "1258          1.0  "
      ]
     },
     "execution_count": 6,
     "metadata": {},
     "output_type": "execute_result"
    }
   ],
   "source": [
    "dataset.tail()"
   ]
  },
  {
   "cell_type": "code",
   "execution_count": 8,
   "metadata": {},
   "outputs": [],
   "source": [
    "close_price = dataset.reset_index()[\"close\"]"
   ]
  },
  {
   "cell_type": "code",
   "execution_count": 10,
   "metadata": {},
   "outputs": [
    {
     "data": {
      "text/plain": [
       "0       115.31\n",
       "1       116.28\n",
       "2       116.41\n",
       "3       113.92\n",
       "4       113.45\n",
       "         ...  \n",
       "1254    120.96\n",
       "1255    112.82\n",
       "1256    117.32\n",
       "1257    113.49\n",
       "1258    112.00\n",
       "Name: close, Length: 1259, dtype: float64"
      ]
     },
     "execution_count": 10,
     "metadata": {},
     "output_type": "execute_result"
    }
   ],
   "source": [
    "close_price"
   ]
  },
  {
   "cell_type": "code",
   "execution_count": 12,
   "metadata": {},
   "outputs": [
    {
     "data": {
      "image/png": "[encoded data removed]",
      "text/plain": [
       "<Figure size 432x288 with 1 Axes>"
      ]
     },
     "metadata": {
      "needs_background": "light"
     },
     "output_type": "display_data"
    }
   ],
   "source": [
    "plt.plot(close_price)\n",
    "plt.show()"
   ]
  },
  {
   "cell_type": "code",
   "execution_count": 16,
   "metadata": {},
   "outputs": [],
   "source": [
    "from sklearn.preprocessing import MinMaxScaler\n",
    "scaler = MinMaxScaler()\n",
    "close_price = scaler.fit_transform(np.array(close_price).reshape(-1,1))"
   ]
  },
  {
   "cell_type": "code",
   "execution_count": 17,
   "metadata": {},
   "outputs": [
    {
     "data": {
      "text/plain": [
       "array([[0.06006013],\n",
       "       [0.06239327],\n",
       "       [0.06270595],\n",
       "       ...,\n",
       "       [0.06489477],\n",
       "       [0.0556825 ],\n",
       "       [0.05209862]])"
      ]
     },
     "execution_count": 17,
     "metadata": {},
     "output_type": "execute_result"
    }
   ],
   "source": [
    "close_price"
   ]
  },
  {
   "cell_type": "code",
   "execution_count": 24,
   "metadata": {},
   "outputs": [],
   "source": [
    "#train-test split\n",
    "train_size = int(len(close_price)*0.65)\n",
    "test_size = len(close_price) - train_size\n",
    "train_data, test_data = close_price[:train_size],close_price[train_size:]"
   ]
  },
  {
   "cell_type": "code",
   "execution_count": 29,
   "metadata": {},
   "outputs": [],
   "source": [
    "def create_dataset(dataset, time_step=1):\n",
    "    dataX,dataY = [],[]\n",
    "    for i in range(len(dataset) - time_step - 1):\n",
    "        temp = dataset[i:(i+time_step),0]\n",
    "        dataX.append(temp)\n",
    "        dataY.append(dataset[i+time_step,0])\n",
    "    return np.array(dataX),np.array(dataY)"
   ]
  },
  {
   "cell_type": "code",
   "execution_count": 33,
   "metadata": {},
   "outputs": [],
   "source": [
    "X_train,y_train = create_dataset(train_data,100)\n",
    "X_test,y_test = create_dataset(test_data,100)"
   ]
  },
  {
   "cell_type": "code",
   "execution_count": 41,
   "metadata": {},
   "outputs": [],
   "source": [
    "X_train = X_train.reshape(X_train.shape[0],X_train.shape[1],1)\n",
    "X_test = X_test.reshape(X_test.shape[0],X_test.shape[1],1)"
   ]
  },
  {
   "cell_type": "markdown",
   "metadata": {},
   "source": [
    "### Creating Stacked LSTM model"
   ]
  },
  {
   "cell_type": "code",
   "execution_count": 46,
   "metadata": {},
   "outputs": [],
   "source": [
    "from tensorflow.keras.models import Sequential\n",
    "from tensorflow.keras.layers import Dense,LSTM"
   ]
  },
  {
   "cell_type": "code",
   "execution_count": 47,
   "metadata": {},
   "outputs": [],
   "source": [
    "model = Sequential()\n",
    "model.add(LSTM(50,return_sequences=True,input_shape = (100,1)))\n",
    "model.add(LSTM(50,return_sequences=True))\n",
    "model.add(LSTM(50))\n",
    "model.add(Dense(1))\n",
    "model.compile(loss = 'mean_squared_error',optimizer='adam')"
   ]
  },
  {
   "cell_type": "code",
   "execution_count": 48,
   "metadata": {},
   "outputs": [
    {
     "name": "stdout",
     "output_type": "stream",
     "text": [
      "Epoch 1/100\n",
      "23/23 [==============================] - 6s 255ms/step - loss: 0.0045 - val_loss: 0.0150\n",
      "Epoch 2/100\n",
      "23/23 [==============================] - 4s 173ms/step - loss: 4.5930e-04 - val_loss: 0.0150\n",
      "Epoch 3/100\n",
      "23/23 [==============================] - 6s 279ms/step - loss: 2.8818e-04 - val_loss: 0.0147\n",
      "Epoch 4/100\n",
      "23/23 [==============================] - 5s 223ms/step - loss: 2.8122e-04 - val_loss: 0.0147\n",
      "Epoch 5/100\n",
      "23/23 [==============================] - 6s 257ms/step - loss: 2.7558e-04 - val_loss: 0.0143\n",
      "Epoch 6/100\n",
      "23/23 [==============================] - 7s 291ms/step - loss: 2.4841e-04 - val_loss: 0.0137\n",
      "Epoch 7/100\n",
      "23/23 [==============================] - 6s 246ms/step - loss: 2.5119e-04 - val_loss: 0.0144\n",
      "Epoch 8/100\n",
      "23/23 [==============================] - 7s 302ms/step - loss: 2.3026e-04 - val_loss: 0.0137\n",
      "Epoch 9/100\n",
      "23/23 [==============================] - 6s 242ms/step - loss: 2.1539e-04 - val_loss: 0.0132\n",
      "Epoch 10/100\n",
      "23/23 [==============================] - 7s 284ms/step - loss: 2.1123e-04 - val_loss: 0.0135\n",
      "Epoch 11/100\n",
      "23/23 [==============================] - 6s 282ms/step - loss: 2.0262e-04 - val_loss: 0.0129\n",
      "Epoch 12/100\n",
      "23/23 [==============================] - 6s 251ms/step - loss: 1.8433e-04 - val_loss: 0.0122\n",
      "Epoch 13/100\n",
      "23/23 [==============================] - 7s 296ms/step - loss: 1.7838e-04 - val_loss: 0.0119\n",
      "Epoch 14/100\n",
      "23/23 [==============================] - 6s 242ms/step - loss: 1.7798e-04 - val_loss: 0.0113\n",
      "Epoch 15/100\n",
      "23/23 [==============================] - 7s 299ms/step - loss: 1.8964e-04 - val_loss: 0.0116\n",
      "Epoch 16/100\n",
      "23/23 [==============================] - 7s 297ms/step - loss: 1.6000e-04 - val_loss: 0.0107\n",
      "Epoch 17/100\n",
      "23/23 [==============================] - 6s 246ms/step - loss: 1.7128e-04 - val_loss: 0.0114\n",
      "Epoch 18/100\n",
      "23/23 [==============================] - 7s 292ms/step - loss: 1.5730e-04 - val_loss: 0.0101\n",
      "Epoch 19/100\n",
      "23/23 [==============================] - 4s 184ms/step - loss: 1.5953e-04 - val_loss: 0.0101\n",
      "Epoch 20/100\n",
      "23/23 [==============================] - 7s 308ms/step - loss: 1.5364e-04 - val_loss: 0.0098\n",
      "Epoch 21/100\n",
      "23/23 [==============================] - 7s 304ms/step - loss: 1.4253e-04 - val_loss: 0.0100\n",
      "Epoch 22/100\n",
      "23/23 [==============================] - 7s 295ms/step - loss: 1.5709e-04 - val_loss: 0.0095\n",
      "Epoch 23/100\n",
      "23/23 [==============================] - 7s 315ms/step - loss: 1.5016e-04 - val_loss: 0.0094\n",
      "Epoch 24/100\n",
      "23/23 [==============================] - 6s 242ms/step - loss: 1.4883e-04 - val_loss: 0.0092\n",
      "Epoch 25/100\n",
      "23/23 [==============================] - 7s 313ms/step - loss: 1.3907e-04 - val_loss: 0.0084\n",
      "Epoch 26/100\n",
      "23/23 [==============================] - 6s 262ms/step - loss: 1.3365e-04 - val_loss: 0.0085\n",
      "Epoch 27/100\n",
      "23/23 [==============================] - 7s 288ms/step - loss: 1.3022e-04 - val_loss: 0.0080\n",
      "Epoch 28/100\n",
      "23/23 [==============================] - 6s 276ms/step - loss: 1.6261e-04 - val_loss: 0.0079\n",
      "Epoch 29/100\n",
      "23/23 [==============================] - 6s 258ms/step - loss: 1.3227e-04 - val_loss: 0.0088\n",
      "Epoch 30/100\n",
      "23/23 [==============================] - 7s 319ms/step - loss: 2.0181e-04 - val_loss: 0.0077\n",
      "Epoch 31/100\n",
      "23/23 [==============================] - 6s 244ms/step - loss: 1.1811e-04 - val_loss: 0.0081\n",
      "Epoch 32/100\n",
      "23/23 [==============================] - 7s 314ms/step - loss: 1.3247e-04 - val_loss: 0.0073\n",
      "Epoch 33/100\n",
      "23/23 [==============================] - 6s 265ms/step - loss: 1.1762e-04 - val_loss: 0.0076\n",
      "Epoch 34/100\n",
      "23/23 [==============================] - 6s 255ms/step - loss: 1.1400e-04 - val_loss: 0.0079\n",
      "Epoch 35/100\n",
      "23/23 [==============================] - 7s 310ms/step - loss: 1.2083e-04 - val_loss: 0.0070\n",
      "Epoch 36/100\n",
      "23/23 [==============================] - 6s 257ms/step - loss: 1.2779e-04 - val_loss: 0.0071\n",
      "Epoch 37/100\n",
      "23/23 [==============================] - 7s 298ms/step - loss: 1.1823e-04 - val_loss: 0.0067\n",
      "Epoch 38/100\n",
      "23/23 [==============================] - 6s 257ms/step - loss: 1.1048e-04 - val_loss: 0.0073\n",
      "Epoch 39/100\n",
      "23/23 [==============================] - 6s 281ms/step - loss: 1.1384e-04 - val_loss: 0.0065\n",
      "Epoch 40/100\n",
      "23/23 [==============================] - 7s 301ms/step - loss: 1.0348e-04 - val_loss: 0.0066\n",
      "Epoch 41/100\n",
      "23/23 [==============================] - 6s 255ms/step - loss: 1.0804e-04 - val_loss: 0.0064\n",
      "Epoch 42/100\n",
      "23/23 [==============================] - 7s 306ms/step - loss: 9.8595e-05 - val_loss: 0.0065\n",
      "Epoch 43/100\n",
      "23/23 [==============================] - 5s 230ms/step - loss: 1.1340e-04 - val_loss: 0.0063\n",
      "Epoch 44/100\n",
      "23/23 [==============================] - 7s 286ms/step - loss: 1.0146e-04 - val_loss: 0.0061\n",
      "Epoch 45/100\n",
      "23/23 [==============================] - 6s 278ms/step - loss: 1.0507e-04 - val_loss: 0.0065\n",
      "Epoch 46/100\n",
      "23/23 [==============================] - 6s 267ms/step - loss: 1.1262e-04 - val_loss: 0.0062\n",
      "Epoch 47/100\n",
      "23/23 [==============================] - 7s 305ms/step - loss: 9.4689e-05 - val_loss: 0.0060\n",
      "Epoch 48/100\n",
      "23/23 [==============================] - 5s 217ms/step - loss: 8.7483e-05 - val_loss: 0.0060\n",
      "Epoch 49/100\n",
      "23/23 [==============================] - 7s 314ms/step - loss: 8.6399e-05 - val_loss: 0.0059\n",
      "Epoch 50/100\n",
      "23/23 [==============================] - 6s 277ms/step - loss: 9.5231e-05 - val_loss: 0.0059\n",
      "Epoch 51/100\n",
      "23/23 [==============================] - 6s 246ms/step - loss: 1.1865e-04 - val_loss: 0.0057\n",
      "Epoch 52/100\n",
      "23/23 [==============================] - 7s 298ms/step - loss: 8.8208e-05 - val_loss: 0.0059\n",
      "Epoch 53/100\n",
      "23/23 [==============================] - 5s 235ms/step - loss: 9.2093e-05 - val_loss: 0.0055\n",
      "Epoch 54/100\n",
      "23/23 [==============================] - 7s 311ms/step - loss: 8.7280e-05 - val_loss: 0.0055\n",
      "Epoch 55/100\n",
      "23/23 [==============================] - 7s 284ms/step - loss: 1.0619e-04 - val_loss: 0.0051\n",
      "Epoch 56/100\n",
      "23/23 [==============================] - 6s 269ms/step - loss: 8.0299e-05 - val_loss: 0.0052\n",
      "Epoch 57/100\n",
      "23/23 [==============================] - 6s 270ms/step - loss: 7.4746e-05 - val_loss: 0.0053\n",
      "Epoch 58/100\n",
      "23/23 [==============================] - 4s 162ms/step - loss: 7.4444e-05 - val_loss: 0.0054\n",
      "Epoch 59/100\n",
      "23/23 [==============================] - 7s 306ms/step - loss: 7.6306e-05 - val_loss: 0.0050\n",
      "Epoch 60/100\n",
      "23/23 [==============================] - 6s 275ms/step - loss: 7.4737e-05 - val_loss: 0.0050\n",
      "Epoch 61/100\n",
      "23/23 [==============================] - 5s 232ms/step - loss: 7.6265e-05 - val_loss: 0.0048\n",
      "Epoch 62/100\n",
      "23/23 [==============================] - 7s 290ms/step - loss: 8.5160e-05 - val_loss: 0.0048\n",
      "Epoch 63/100\n",
      "23/23 [==============================] - 5s 206ms/step - loss: 8.5188e-05 - val_loss: 0.0049\n",
      "Epoch 64/100\n",
      "23/23 [==============================] - 6s 253ms/step - loss: 7.1671e-05 - val_loss: 0.0048\n",
      "Epoch 65/100\n",
      "23/23 [==============================] - 7s 300ms/step - loss: 6.6789e-05 - val_loss: 0.0048\n",
      "Epoch 66/100\n",
      "23/23 [==============================] - 6s 270ms/step - loss: 6.9092e-05 - val_loss: 0.0050\n",
      "Epoch 67/100\n",
      "23/23 [==============================] - 7s 309ms/step - loss: 7.7199e-05 - val_loss: 0.0046\n",
      "Epoch 68/100\n",
      "23/23 [==============================] - 6s 271ms/step - loss: 7.3817e-05 - val_loss: 0.0047\n",
      "Epoch 69/100\n",
      "23/23 [==============================] - 7s 297ms/step - loss: 8.1983e-05 - val_loss: 0.0046\n",
      "Epoch 70/100\n",
      "23/23 [==============================] - 6s 279ms/step - loss: 7.7958e-05 - val_loss: 0.0046\n",
      "Epoch 71/100\n",
      "23/23 [==============================] - 6s 260ms/step - loss: 7.5347e-05 - val_loss: 0.0043\n",
      "Epoch 72/100\n",
      "23/23 [==============================] - 7s 306ms/step - loss: 6.7333e-05 - val_loss: 0.0043\n",
      "Epoch 73/100\n",
      "23/23 [==============================] - 6s 241ms/step - loss: 8.3632e-05 - val_loss: 0.0047\n",
      "Epoch 74/100\n",
      "23/23 [==============================] - 7s 306ms/step - loss: 9.4171e-05 - val_loss: 0.0042\n",
      "Epoch 75/100\n",
      "23/23 [==============================] - 6s 276ms/step - loss: 7.2452e-05 - val_loss: 0.0041\n",
      "Epoch 76/100\n",
      "23/23 [==============================] - 7s 307ms/step - loss: 6.7730e-05 - val_loss: 0.0041\n",
      "Epoch 77/100\n",
      "23/23 [==============================] - 7s 311ms/step - loss: 6.1408e-05 - val_loss: 0.0040\n",
      "Epoch 78/100\n"
     ]
    },
    {
     "name": "stdout",
     "output_type": "stream",
     "text": [
      "23/23 [==============================] - 6s 268ms/step - loss: 7.2608e-05 - val_loss: 0.0040\n",
      "Epoch 79/100\n",
      "23/23 [==============================] - 6s 281ms/step - loss: 6.0701e-05 - val_loss: 0.0040\n",
      "Epoch 80/100\n",
      "23/23 [==============================] - 5s 227ms/step - loss: 5.7621e-05 - val_loss: 0.0041\n",
      "Epoch 81/100\n",
      "23/23 [==============================] - 7s 290ms/step - loss: 6.5958e-05 - val_loss: 0.0041\n",
      "Epoch 82/100\n",
      "23/23 [==============================] - 6s 272ms/step - loss: 6.0803e-05 - val_loss: 0.0039\n",
      "Epoch 83/100\n",
      "23/23 [==============================] - 5s 234ms/step - loss: 6.0052e-05 - val_loss: 0.0039\n",
      "Epoch 84/100\n",
      "23/23 [==============================] - 8s 351ms/step - loss: 6.6977e-05 - val_loss: 0.0038\n",
      "Epoch 85/100\n",
      "23/23 [==============================] - 5s 212ms/step - loss: 7.4597e-05 - val_loss: 0.0038\n",
      "Epoch 86/100\n",
      "23/23 [==============================] - 7s 319ms/step - loss: 5.6431e-05 - val_loss: 0.0037\n",
      "Epoch 87/100\n",
      "23/23 [==============================] - 6s 275ms/step - loss: 6.2842e-05 - val_loss: 0.0038\n",
      "Epoch 88/100\n",
      "23/23 [==============================] - 7s 306ms/step - loss: 5.7109e-05 - val_loss: 0.0037\n",
      "Epoch 89/100\n",
      "23/23 [==============================] - 8s 327ms/step - loss: 5.2427e-05 - val_loss: 0.0036\n",
      "Epoch 90/100\n",
      "23/23 [==============================] - 6s 245ms/step - loss: 5.4995e-05 - val_loss: 0.0039\n",
      "Epoch 91/100\n",
      "23/23 [==============================] - 8s 328ms/step - loss: 6.0741e-05 - val_loss: 0.0034\n",
      "Epoch 92/100\n",
      "23/23 [==============================] - 6s 239ms/step - loss: 5.5387e-05 - val_loss: 0.0042\n",
      "Epoch 93/100\n",
      "23/23 [==============================] - 7s 310ms/step - loss: 5.2640e-05 - val_loss: 0.0035\n",
      "Epoch 94/100\n",
      "23/23 [==============================] - 7s 301ms/step - loss: 5.4347e-05 - val_loss: 0.0034\n",
      "Epoch 95/100\n",
      "23/23 [==============================] - 7s 309ms/step - loss: 5.6656e-05 - val_loss: 0.0034\n",
      "Epoch 96/100\n",
      "23/23 [==============================] - 7s 290ms/step - loss: 5.1227e-05 - val_loss: 0.0043\n",
      "Epoch 97/100\n",
      "23/23 [==============================] - 7s 286ms/step - loss: 6.1042e-05 - val_loss: 0.0034\n",
      "Epoch 98/100\n",
      "23/23 [==============================] - 7s 325ms/step - loss: 5.3676e-05 - val_loss: 0.0033\n",
      "Epoch 99/100\n",
      "23/23 [==============================] - 5s 226ms/step - loss: 5.8212e-05 - val_loss: 0.0033\n",
      "Epoch 100/100\n",
      "23/23 [==============================] - 6s 248ms/step - loss: 5.9868e-05 - val_loss: 0.0034\n"
     ]
    },
    {
     "data": {
      "text/plain": [
       "<tensorflow.python.keras.callbacks.History at 0x1c6a2e8f248>"
      ]
     },
     "execution_count": 48,
     "metadata": {},
     "output_type": "execute_result"
    }
   ],
   "source": [
    "model.fit(X_train,y_train,validation_data=(X_test,y_test),epochs = 100,batch_size=32)"
   ]
  },
  {
   "cell_type": "markdown",
   "metadata": {},
   "source": [
    "### Evaluating the model"
   ]
  },
  {
   "cell_type": "code",
   "execution_count": 51,
   "metadata": {},
   "outputs": [],
   "source": [
    "train_predict = model.predict(X_train)\n",
    "test_predict = model.predict(X_test)"
   ]
  },
  {
   "cell_type": "code",
   "execution_count": 54,
   "metadata": {},
   "outputs": [],
   "source": [
    "train_predict = scaler.inverse_transform(train_predict)\n",
    "test_predict = scaler.inverse_transform(test_predict)"
   ]
  },
  {
   "cell_type": "code",
   "execution_count": 56,
   "metadata": {
    "scrolled": true
   },
   "outputs": [
    {
     "name": "stdout",
     "output_type": "stream",
     "text": [
      "Training RMSE 151.92853316262887\n",
      "Test RMSE 278.92401018976346\n"
     ]
    }
   ],
   "source": [
    "from sklearn.metrics import mean_squared_error\n",
    "print(\"Training RMSE\", np.sqrt(mean_squared_error(y_train,train_predict)))\n",
    "print(\"Test RMSE\", np.sqrt(mean_squared_error(y_test,test_predict)))"
   ]
  },
  {
   "cell_type": "markdown",
   "metadata": {},
   "source": [
    "### Visualization"
   ]
  },
  {
   "cell_type": "code",
   "execution_count": 63,
   "metadata": {},
   "outputs": [
    {
     "data": {
      "image/png": "[encoded data removed]",
      "text/plain": [
       "<Figure size 432x288 with 1 Axes>"
      ]
     },
     "metadata": {
      "needs_background": "light"
     },
     "output_type": "display_data"
    }
   ],
   "source": [
    "look_back=100\n",
    "trainPredictPlot = np.empty_like(close_price)\n",
    "trainPredictPlot[:, :] = np.nan\n",
    "trainPredictPlot[look_back:len(train_predict)+look_back, :] = train_predict\n",
    "# shift test predictions for plotting\n",
    "testPredictPlot = np.empty_like(close_price)\n",
    "testPredictPlot[:, :] = np.nan\n",
    "testPredictPlot[len(train_predict)+(look_back*2)+1:len(close_price)-1, :] = test_predict\n",
    "# plot baseline and predictions\n",
    "plt.plot(scaler.inverse_transform(close_price))\n",
    "plt.plot(trainPredictPlot)\n",
    "plt.plot(testPredictPlot)\n",
    "plt.legend([\"Original Data\",\"Train Predictions\",\"Test Predictions\"])\n",
    "plt.show()"
   ]
  }
 ],
 "metadata": {
  "kernelspec": {
   "display_name": "Python 3",
   "language": "python",
   "name": "python3"
  },
  "language_info": {
   "codemirror_mode": {
    "name": "ipython",
    "version": 3
   },
   "file_extension": ".py",
   "mimetype": "text/x-python",
   "name": "python",
   "nbconvert_exporter": "python",
   "pygments_lexer": "ipython3",
   "version": "3.7.6"
  }
 },
 "nbformat": 4,
 "nbformat_minor": 4
}
